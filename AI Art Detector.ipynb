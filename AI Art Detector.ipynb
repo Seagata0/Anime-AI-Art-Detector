{
 "cells": [
  {
   "cell_type": "markdown",
   "metadata": {},
   "source": [
    "# Tugas Besar PCD Kelompok 7\n",
    "**Seagata Ade Barus (1301210371)**"
   ]
  },
  {
   "cell_type": "markdown",
   "metadata": {},
   "source": [
    "## Setup"
   ]
  },
  {
   "cell_type": "code",
   "execution_count": 1,
   "metadata": {},
   "outputs": [],
   "source": [
    "#import\n",
    "import os\n",
    "import cv2\n",
    "import json\n",
    "import numpy as np\n",
    "import seaborn as sns\n",
    "import tensorflow as tf\n",
    "import matplotlib.pyplot as plt\n",
    "\n",
    "from sklearn.model_selection import train_test_split\n",
    "from sklearn.metrics import confusion_matrix, classification_report\n",
    "\n",
    "from skimage.feature import local_binary_pattern\n",
    "\n",
    "from tensorflow.keras.applications import MobileNetV3Large\n",
    "from tensorflow.keras.applications.mobilenet_v3 import preprocess_input\n",
    "\n",
    "from tensorflow.keras.models import load_model\n",
    "from tensorflow.keras.preprocessing.image import img_to_array\n",
    "from tensorflow.keras.utils import to_categorical\n",
    "from tensorflow.keras.models import Sequential\n",
    "from tensorflow.keras.layers import Dense, GlobalAveragePooling2D\n",
    "from tensorflow.keras.optimizers import SGD, Adam"
   ]
  },
  {
   "cell_type": "code",
   "execution_count": 2,
   "metadata": {},
   "outputs": [
    {
     "name": "stdout",
     "output_type": "stream",
     "text": [
      "Number of GPU:  1\n",
      "GPU Name:  NVIDIA GeForce GTX 1050\n",
      "Using device: cuda\n"
     ]
    }
   ],
   "source": [
    "import torch\n",
    "\n",
    "print(\"Number of GPU: \", torch.cuda.device_count())\n",
    "print(\"GPU Name: \", torch.cuda.get_device_name())\n",
    "\n",
    "device = torch.device('cuda' if torch.cuda.is_available() else 'cpu')\n",
    "print('Using device:', device)"
   ]
  },
  {
   "cell_type": "markdown",
   "metadata": {},
   "source": [
    "## Feature Extraction & Preprocessing"
   ]
  },
  {
   "cell_type": "markdown",
   "metadata": {},
   "source": [
    "### Gabor Filter"
   ]
  },
  {
   "cell_type": "code",
   "execution_count": 5,
   "metadata": {},
   "outputs": [],
   "source": [
    "# gabor filter\n",
    "def applyGaborFilter(image, kernel_size=21, sigma=5.0, theta=0, lambd=10.0, gamma=0.5):\n",
    "    grayImage = cv2.cvtColor(image, cv2.COLOR_BGR2GRAY)\n",
    "    kernel = cv2.getGaborKernel((kernel_size, kernel_size), sigma, theta, lambd, gamma, ktype=cv2.CV_32F)\n",
    "    filteredGray = cv2.filter2D(grayImage, cv2.CV_8UC3, kernel)\n",
    "    filteredImage = cv2.merge([filteredGray, filteredGray, filteredGray])\n",
    "    return filteredImage"
   ]
  },
  {
   "cell_type": "code",
   "execution_count": 11,
   "metadata": {},
   "outputs": [],
   "source": [
    "# process image into gabor filter\n",
    "def GaborFilter(folder_path, label):\n",
    "    data = []\n",
    "    labels = []\n",
    "    for filename in os.listdir(folder_path):\n",
    "        if filename.endswith(('.jpg', '.jpeg', '.png')):\n",
    "            filepath = os.path.join(folder_path, filename)\n",
    "            image = cv2.imread(filepath)\n",
    "            if image is None:\n",
    "                print(f\"Failed to load image: {filepath}\")\n",
    "            else:\n",
    "                image = cv2.resize(image, (560, 560))\n",
    "                filteredImage = applyGaborFilter(image)\n",
    "                data.append(img_to_array(filteredImage))\n",
    "                labels.append(label)\n",
    "    return np.array(data), np.array(labels)"
   ]
  },
  {
   "cell_type": "code",
   "execution_count": 12,
   "metadata": {},
   "outputs": [],
   "source": [
    "# process data\n",
    "realImg, realLabels = GaborFilter('Real', label=0)\n",
    "aiImg, aiLabels = GaborFilter('AI', label=1)"
   ]
  },
  {
   "cell_type": "code",
   "execution_count": 13,
   "metadata": {},
   "outputs": [],
   "source": [
    "# Combine & split data\n",
    "img = np.concatenate((realImg, aiImg), axis=0)\n",
    "labels = np.concatenate((realLabels, aiLabels), axis=0)\n",
    "img = img / 255.0\n",
    "labels = to_categorical(labels, num_classes=2)\n",
    "\n",
    "X_train, X_val, y_train, y_val = train_test_split(img, labels, test_size=0.2, random_state=34)"
   ]
  },
  {
   "cell_type": "markdown",
   "metadata": {},
   "source": [
    "### LBP"
   ]
  },
  {
   "cell_type": "code",
   "execution_count": 3,
   "metadata": {},
   "outputs": [],
   "source": [
    "# Local Binary Pattern(s?)\n",
    "def localBinaryPattern(folder, label):\n",
    "    images = []\n",
    "    labels = []\n",
    "    for img_name in os.listdir(folder):\n",
    "        img_path = os.path.join(folder, img_name)\n",
    "        img = cv2.imread(img_path)\n",
    "        if img is not None:\n",
    "            img = cv2.resize(img,(560, 560))\n",
    "            gray = cv2.cvtColor(img, cv2.COLOR_BGR2GRAY)\n",
    "            lbp = local_binary_pattern(gray, P=8, R=1, method='uniform')\n",
    "            lbp_rgb = cv2.merge([lbp, lbp, lbp])\n",
    "            images.append(lbp_rgb)\n",
    "            labels.append(label)\n",
    "    return np.array(images), np.array(labels)"
   ]
  },
  {
   "cell_type": "code",
   "execution_count": 4,
   "metadata": {},
   "outputs": [],
   "source": [
    "# Process Image & Labels\n",
    "realImg2, realLabels2 = localBinaryPattern(\"Real\", 0)\n",
    "aiImg2, aiLabels2 = localBinaryPattern(\"AI\", 1)\n",
    "\n",
    "images = np.concatenate((realImg2, aiImg2), axis=0)\n",
    "labels = np.concatenate((realLabels2, aiLabels2), axis=0)\n",
    "\n",
    "labels = to_categorical(labels, 2)"
   ]
  },
  {
   "cell_type": "code",
   "execution_count": 5,
   "metadata": {},
   "outputs": [],
   "source": [
    "x_train2, x_val2, y_train2, y_val2 = train_test_split(images, labels, test_size=0.2, random_state=34)"
   ]
  },
  {
   "cell_type": "markdown",
   "metadata": {},
   "source": [
    "### Default CNN Feature Maps"
   ]
  },
  {
   "cell_type": "code",
   "execution_count": 3,
   "metadata": {},
   "outputs": [],
   "source": [
    "# default preprocess untuk MobileNetV3Large\n",
    "def preprocess(folder, label):\n",
    "    images = []\n",
    "    labels = []\n",
    "    for img_name in os.listdir(folder):\n",
    "        img_path = os.path.join(folder, img_name)\n",
    "        img = cv2.imread(img_path)\n",
    "        if img is not None:\n",
    "            img = cv2.resize(img,(560,560))\n",
    "            images.append(img)\n",
    "            labels.append(label)\n",
    "    return np.array(images), np.array(labels)"
   ]
  },
  {
   "cell_type": "code",
   "execution_count": 4,
   "metadata": {},
   "outputs": [],
   "source": [
    "# process images & labels\n",
    "realImg3, realLabels3 = preprocess(\"Real\", 0)\n",
    "aiImg3, aiLabels3 = preprocess(\"AI\", 1)\n",
    "\n",
    "images = np.concatenate((realImg3, aiImg3), axis=0)\n",
    "labels = np.concatenate((realLabels3, aiLabels3), axis=0)\n",
    "\n",
    "images = preprocess_input(images)\n",
    "labels = to_categorical(labels, 2)"
   ]
  },
  {
   "cell_type": "code",
   "execution_count": 5,
   "metadata": {},
   "outputs": [],
   "source": [
    "x_train3, x_val3, y_train3, y_val3 = train_test_split(images, labels, test_size=0.2, random_state=42)"
   ]
  },
  {
   "cell_type": "markdown",
   "metadata": {},
   "source": [
    "## Model"
   ]
  },
  {
   "cell_type": "code",
   "execution_count": 7,
   "metadata": {},
   "outputs": [
    {
     "name": "stderr",
     "output_type": "stream",
     "text": [
      "c:\\Users\\wagam\\AppData\\Local\\Programs\\Python\\Python310\\lib\\site-packages\\keras\\src\\applications\\mobilenet_v3.py:517: UserWarning: `input_shape` is undefined or non-square, or `rows` is not 224. Weights for input shape (224, 224) will be loaded as the default.\n",
      "  return MobileNetV3(\n"
     ]
    }
   ],
   "source": [
    "# inisisasi model pre-trained MobileNetV3Large\n",
    "base_model = MobileNetV3Large(weights='imagenet', include_top=False, input_shape=(560, 560, 3))"
   ]
  },
  {
   "cell_type": "markdown",
   "metadata": {},
   "source": [
    "### Gabor Filter"
   ]
  },
  {
   "cell_type": "code",
   "execution_count": 3,
   "metadata": {},
   "outputs": [
    {
     "ename": "NameError",
     "evalue": "name 'Sequential' is not defined",
     "output_type": "error",
     "traceback": [
      "\u001b[1;31m---------------------------------------------------------------------------\u001b[0m",
      "\u001b[1;31mNameError\u001b[0m                                 Traceback (most recent call last)",
      "Cell \u001b[1;32mIn[3], line 2\u001b[0m\n\u001b[0;32m      1\u001b[0m \u001b[38;5;66;03m# modifikasi model\u001b[39;00m\n\u001b[1;32m----> 2\u001b[0m model \u001b[38;5;241m=\u001b[39m \u001b[43mSequential\u001b[49m([\n\u001b[0;32m      3\u001b[0m     base_model,\n\u001b[0;32m      4\u001b[0m     GlobalAveragePooling2D(),\n\u001b[0;32m      5\u001b[0m     Dense(\u001b[38;5;241m2\u001b[39m, activation\u001b[38;5;241m=\u001b[39m\u001b[38;5;124m'\u001b[39m\u001b[38;5;124msoftmax\u001b[39m\u001b[38;5;124m'\u001b[39m)\n\u001b[0;32m      6\u001b[0m ])\n",
      "\u001b[1;31mNameError\u001b[0m: name 'Sequential' is not defined"
     ]
    }
   ],
   "source": [
    "# modifikasi model\n",
    "model = Sequential([\n",
    "    base_model,\n",
    "    GlobalAveragePooling2D(),\n",
    "    Dense(2, activation='softmax')\n",
    "])"
   ]
  },
  {
   "cell_type": "code",
   "execution_count": 9,
   "metadata": {},
   "outputs": [],
   "source": [
    "#compile\n",
    "model.compile(optimizer=SGD(learning_rate=0.001, momentum=0.9),\n",
    "              loss='CategoricalCrossentropy',\n",
    "              metrics=['accuracy'])"
   ]
  },
  {
   "cell_type": "code",
   "execution_count": 10,
   "metadata": {},
   "outputs": [
    {
     "name": "stdout",
     "output_type": "stream",
     "text": [
      "Epoch 1/10\n",
      "10/10 - 336s - 34s/step - accuracy: 0.5234 - loss: 0.7072 - val_accuracy: 0.5500 - val_loss: 0.6907\n",
      "Epoch 2/10\n",
      "10/10 - 267s - 27s/step - accuracy: 0.5594 - loss: 0.6863 - val_accuracy: 0.5250 - val_loss: 0.7132\n",
      "Epoch 3/10\n",
      "10/10 - 261s - 26s/step - accuracy: 0.6156 - loss: 0.6608 - val_accuracy: 0.5250 - val_loss: 0.7115\n",
      "Epoch 4/10\n",
      "10/10 - 269s - 27s/step - accuracy: 0.6516 - loss: 0.6387 - val_accuracy: 0.5250 - val_loss: 0.7208\n",
      "Epoch 5/10\n",
      "10/10 - 266s - 27s/step - accuracy: 0.6781 - loss: 0.6165 - val_accuracy: 0.5250 - val_loss: 0.7341\n",
      "Epoch 6/10\n",
      "10/10 - 267s - 27s/step - accuracy: 0.7047 - loss: 0.5976 - val_accuracy: 0.5250 - val_loss: 0.7526\n",
      "Epoch 7/10\n",
      "10/10 - 263s - 26s/step - accuracy: 0.7031 - loss: 0.5792 - val_accuracy: 0.5250 - val_loss: 0.7703\n",
      "Epoch 8/10\n",
      "10/10 - 251s - 25s/step - accuracy: 0.7500 - loss: 0.5638 - val_accuracy: 0.5250 - val_loss: 0.8144\n",
      "Epoch 9/10\n",
      "10/10 - 253s - 25s/step - accuracy: 0.7406 - loss: 0.5496 - val_accuracy: 0.5250 - val_loss: 0.8129\n",
      "Epoch 10/10\n",
      "10/10 - 276s - 28s/step - accuracy: 0.7609 - loss: 0.5316 - val_accuracy: 0.5250 - val_loss: 0.8581\n"
     ]
    }
   ],
   "source": [
    "#fit\n",
    "history = model.fit(\n",
    "    X_train, y_train,\n",
    "    validation_data=(X_val, y_val),\n",
    "    batch_size=64,\n",
    "    epochs=10,\n",
    "    verbose=2\n",
    ")"
   ]
  },
  {
   "cell_type": "markdown",
   "metadata": {},
   "source": [
    "### LBP"
   ]
  },
  {
   "cell_type": "code",
   "execution_count": 10,
   "metadata": {},
   "outputs": [],
   "source": [
    "model2 = Sequential([\n",
    "    base_model,\n",
    "    GlobalAveragePooling2D(),\n",
    "    Dense(2, activation='softmax')\n",
    "])"
   ]
  },
  {
   "cell_type": "code",
   "execution_count": 11,
   "metadata": {},
   "outputs": [],
   "source": [
    "model2.compile(optimizer=Adam(learning_rate=0.01),\n",
    "              loss='CategoricalCrossentropy',\n",
    "              metrics=['accuracy'])"
   ]
  },
  {
   "cell_type": "code",
   "execution_count": 12,
   "metadata": {},
   "outputs": [
    {
     "name": "stdout",
     "output_type": "stream",
     "text": [
      "Epoch 1/10\n",
      "25/25 - 428s - 17s/step - accuracy: 0.6888 - loss: 0.9255 - val_accuracy: 0.5050 - val_loss: 45856284672.0000\n",
      "Epoch 2/10\n",
      "25/25 - 335s - 13s/step - accuracy: 0.7738 - loss: 0.4750 - val_accuracy: 0.5050 - val_loss: 17498873856.0000\n",
      "Epoch 3/10\n",
      "25/25 - 348s - 14s/step - accuracy: 0.8225 - loss: 0.4071 - val_accuracy: 0.5050 - val_loss: 2514144512.0000\n",
      "Epoch 4/10\n",
      "25/25 - 337s - 13s/step - accuracy: 0.8037 - loss: 0.4490 - val_accuracy: 0.5050 - val_loss: 6096154112.0000\n",
      "Epoch 5/10\n",
      "25/25 - 334s - 13s/step - accuracy: 0.8600 - loss: 0.3149 - val_accuracy: 0.5050 - val_loss: 61805948928.0000\n",
      "Epoch 6/10\n",
      "25/25 - 353s - 14s/step - accuracy: 0.8188 - loss: 0.3840 - val_accuracy: 0.5050 - val_loss: 77983825920.0000\n",
      "Epoch 7/10\n",
      "25/25 - 367s - 15s/step - accuracy: 0.8375 - loss: 0.4733 - val_accuracy: 0.4950 - val_loss: 10908165120.0000\n",
      "Epoch 8/10\n",
      "25/25 - 341s - 14s/step - accuracy: 0.8037 - loss: 0.4028 - val_accuracy: 0.5050 - val_loss: 3025725952.0000\n",
      "Epoch 9/10\n",
      "25/25 - 355s - 14s/step - accuracy: 0.8438 - loss: 0.3639 - val_accuracy: 0.4950 - val_loss: 515839552.0000\n",
      "Epoch 10/10\n",
      "25/25 - 351s - 14s/step - accuracy: 0.8725 - loss: 0.2960 - val_accuracy: 0.5050 - val_loss: 3392094976.0000\n"
     ]
    }
   ],
   "source": [
    "history2 = model2.fit(x_train2, \n",
    "                      y_train2, \n",
    "                      validation_data=(x_val2, y_val2),\n",
    "                      epochs=10,\n",
    "                      verbose=2)"
   ]
  },
  {
   "cell_type": "markdown",
   "metadata": {},
   "source": [
    "### Default"
   ]
  },
  {
   "cell_type": "code",
   "execution_count": 7,
   "metadata": {},
   "outputs": [],
   "source": [
    "model3 = Sequential([\n",
    "    base_model,\n",
    "    GlobalAveragePooling2D(),\n",
    "    Dense(2, activation='softmax')\n",
    "])"
   ]
  },
  {
   "cell_type": "code",
   "execution_count": 8,
   "metadata": {},
   "outputs": [],
   "source": [
    "model3.compile(optimizer=SGD(learning_rate=0.001, momentum=0.9),\n",
    "              loss='CategoricalCrossentropy',\n",
    "              metrics=['accuracy'])"
   ]
  },
  {
   "cell_type": "code",
   "execution_count": 9,
   "metadata": {},
   "outputs": [
    {
     "name": "stdout",
     "output_type": "stream",
     "text": [
      "Epoch 1/40\n",
      "WARNING:tensorflow:From c:\\Users\\wagam\\AppData\\Local\\Programs\\Python\\Python310\\lib\\site-packages\\keras\\src\\utils\\tf_utils.py:492: The name tf.ragged.RaggedTensorValue is deprecated. Please use tf.compat.v1.ragged.RaggedTensorValue instead.\n",
      "\n",
      "WARNING:tensorflow:From c:\\Users\\wagam\\AppData\\Local\\Programs\\Python\\Python310\\lib\\site-packages\\keras\\src\\engine\\base_layer_utils.py:384: The name tf.executing_eagerly_outside_functions is deprecated. Please use tf.compat.v1.executing_eagerly_outside_functions instead.\n",
      "\n",
      "13/13 - 238s - loss: 0.7417 - accuracy: 0.5702 - val_loss: 0.7356 - val_accuracy: 0.6000 - 238s/epoch - 18s/step\n",
      "Epoch 2/40\n",
      "13/13 - 207s - loss: 0.6112 - accuracy: 0.6855 - val_loss: 0.7227 - val_accuracy: 0.6250 - 207s/epoch - 16s/step\n",
      "Epoch 3/40\n",
      "13/13 - 207s - loss: 0.5294 - accuracy: 0.7594 - val_loss: 0.6600 - val_accuracy: 0.6650 - 207s/epoch - 16s/step\n",
      "Epoch 4/40\n",
      "13/13 - 205s - loss: 0.4797 - accuracy: 0.7870 - val_loss: 0.6260 - val_accuracy: 0.7050 - 205s/epoch - 16s/step\n",
      "Epoch 5/40\n",
      "13/13 - 206s - loss: 0.4472 - accuracy: 0.8208 - val_loss: 0.6164 - val_accuracy: 0.6700 - 206s/epoch - 16s/step\n",
      "Epoch 6/40\n",
      "13/13 - 207s - loss: 0.4157 - accuracy: 0.8396 - val_loss: 0.5924 - val_accuracy: 0.6900 - 207s/epoch - 16s/step\n",
      "Epoch 7/40\n",
      "13/13 - 204s - loss: 0.3877 - accuracy: 0.8647 - val_loss: 0.6173 - val_accuracy: 0.6900 - 204s/epoch - 16s/step\n",
      "Epoch 8/40\n",
      "13/13 - 200s - loss: 0.3598 - accuracy: 0.8772 - val_loss: 0.5884 - val_accuracy: 0.6950 - 200s/epoch - 15s/step\n",
      "Epoch 9/40\n",
      "13/13 - 200s - loss: 0.3410 - accuracy: 0.8885 - val_loss: 0.5981 - val_accuracy: 0.7000 - 200s/epoch - 15s/step\n",
      "Epoch 10/40\n",
      "13/13 - 200s - loss: 0.3121 - accuracy: 0.9010 - val_loss: 0.5801 - val_accuracy: 0.6950 - 200s/epoch - 15s/step\n",
      "Epoch 11/40\n",
      "13/13 - 199s - loss: 0.3082 - accuracy: 0.9048 - val_loss: 0.5795 - val_accuracy: 0.7050 - 199s/epoch - 15s/step\n",
      "Epoch 12/40\n",
      "13/13 - 199s - loss: 0.2876 - accuracy: 0.8997 - val_loss: 0.5544 - val_accuracy: 0.7150 - 199s/epoch - 15s/step\n",
      "Epoch 13/40\n",
      "13/13 - 199s - loss: 0.2732 - accuracy: 0.9173 - val_loss: 0.5589 - val_accuracy: 0.7250 - 199s/epoch - 15s/step\n",
      "Epoch 14/40\n",
      "13/13 - 201s - loss: 0.2446 - accuracy: 0.9323 - val_loss: 0.5360 - val_accuracy: 0.7250 - 201s/epoch - 15s/step\n",
      "Epoch 15/40\n",
      "13/13 - 199s - loss: 0.2339 - accuracy: 0.9361 - val_loss: 0.5290 - val_accuracy: 0.7300 - 199s/epoch - 15s/step\n",
      "Epoch 16/40\n",
      "13/13 - 199s - loss: 0.2260 - accuracy: 0.9348 - val_loss: 0.5222 - val_accuracy: 0.7450 - 199s/epoch - 15s/step\n",
      "Epoch 17/40\n",
      "13/13 - 199s - loss: 0.2062 - accuracy: 0.9449 - val_loss: 0.5229 - val_accuracy: 0.7400 - 199s/epoch - 15s/step\n",
      "Epoch 18/40\n",
      "13/13 - 199s - loss: 0.1988 - accuracy: 0.9511 - val_loss: 0.5076 - val_accuracy: 0.7500 - 199s/epoch - 15s/step\n",
      "Epoch 19/40\n",
      "13/13 - 199s - loss: 0.1893 - accuracy: 0.9486 - val_loss: 0.5014 - val_accuracy: 0.7550 - 199s/epoch - 15s/step\n",
      "Epoch 20/40\n",
      "13/13 - 199s - loss: 0.1781 - accuracy: 0.9599 - val_loss: 0.4980 - val_accuracy: 0.7600 - 199s/epoch - 15s/step\n",
      "Epoch 21/40\n",
      "13/13 - 199s - loss: 0.1661 - accuracy: 0.9599 - val_loss: 0.4931 - val_accuracy: 0.7650 - 199s/epoch - 15s/step\n",
      "Epoch 22/40\n",
      "13/13 - 199s - loss: 0.1583 - accuracy: 0.9662 - val_loss: 0.4887 - val_accuracy: 0.7750 - 199s/epoch - 15s/step\n",
      "Epoch 23/40\n",
      "13/13 - 199s - loss: 0.1458 - accuracy: 0.9724 - val_loss: 0.4946 - val_accuracy: 0.7900 - 199s/epoch - 15s/step\n",
      "Epoch 24/40\n",
      "13/13 - 200s - loss: 0.1380 - accuracy: 0.9712 - val_loss: 0.4830 - val_accuracy: 0.7700 - 200s/epoch - 15s/step\n",
      "Epoch 25/40\n",
      "13/13 - 199s - loss: 0.1267 - accuracy: 0.9812 - val_loss: 0.4833 - val_accuracy: 0.7800 - 199s/epoch - 15s/step\n",
      "Epoch 26/40\n",
      "13/13 - 200s - loss: 0.1224 - accuracy: 0.9799 - val_loss: 0.4906 - val_accuracy: 0.7900 - 200s/epoch - 15s/step\n",
      "Epoch 27/40\n",
      "13/13 - 199s - loss: 0.1100 - accuracy: 0.9825 - val_loss: 0.5034 - val_accuracy: 0.8050 - 199s/epoch - 15s/step\n",
      "Epoch 28/40\n",
      "13/13 - 199s - loss: 0.1101 - accuracy: 0.9799 - val_loss: 0.4934 - val_accuracy: 0.8000 - 199s/epoch - 15s/step\n",
      "Epoch 29/40\n",
      "13/13 - 199s - loss: 0.1107 - accuracy: 0.9787 - val_loss: 0.5265 - val_accuracy: 0.8000 - 199s/epoch - 15s/step\n",
      "Epoch 30/40\n",
      "13/13 - 199s - loss: 0.0953 - accuracy: 0.9900 - val_loss: 0.4916 - val_accuracy: 0.8100 - 199s/epoch - 15s/step\n",
      "Epoch 31/40\n",
      "13/13 - 201s - loss: 0.0896 - accuracy: 0.9875 - val_loss: 0.5188 - val_accuracy: 0.8000 - 201s/epoch - 15s/step\n",
      "Epoch 32/40\n",
      "13/13 - 366s - loss: 0.0822 - accuracy: 0.9925 - val_loss: 0.5059 - val_accuracy: 0.8150 - 366s/epoch - 28s/step\n",
      "Epoch 33/40\n",
      "13/13 - 493s - loss: 0.0815 - accuracy: 0.9900 - val_loss: 0.5203 - val_accuracy: 0.8100 - 493s/epoch - 38s/step\n",
      "Epoch 34/40\n",
      "13/13 - 200s - loss: 0.0828 - accuracy: 0.9887 - val_loss: 0.5451 - val_accuracy: 0.8050 - 200s/epoch - 15s/step\n",
      "Epoch 35/40\n",
      "13/13 - 200s - loss: 0.0662 - accuracy: 0.9937 - val_loss: 0.5100 - val_accuracy: 0.8100 - 200s/epoch - 15s/step\n",
      "Epoch 36/40\n",
      "13/13 - 202s - loss: 0.0627 - accuracy: 0.9937 - val_loss: 0.5361 - val_accuracy: 0.8000 - 202s/epoch - 16s/step\n",
      "Epoch 37/40\n",
      "13/13 - 206s - loss: 0.0648 - accuracy: 0.9912 - val_loss: 0.5468 - val_accuracy: 0.8050 - 206s/epoch - 16s/step\n",
      "Epoch 38/40\n",
      "13/13 - 205s - loss: 0.0618 - accuracy: 0.9937 - val_loss: 0.5511 - val_accuracy: 0.8050 - 205s/epoch - 16s/step\n",
      "Epoch 39/40\n",
      "13/13 - 205s - loss: 0.0600 - accuracy: 0.9975 - val_loss: 0.5492 - val_accuracy: 0.8050 - 205s/epoch - 16s/step\n",
      "Epoch 40/40\n",
      "13/13 - 204s - loss: 0.0539 - accuracy: 0.9962 - val_loss: 0.5596 - val_accuracy: 0.8050 - 204s/epoch - 16s/step\n"
     ]
    }
   ],
   "source": [
    "history3 = model3.fit(x_train3, \n",
    "                      y_train3, \n",
    "                      validation_data=(x_val3, y_val3), \n",
    "                      epochs=40, \n",
    "                      batch_size=64,\n",
    "                      verbose=2)"
   ]
  },
  {
   "cell_type": "markdown",
   "metadata": {},
   "source": [
    "## Save & Load"
   ]
  },
  {
   "cell_type": "markdown",
   "metadata": {},
   "source": [
    "### Gabor Filter"
   ]
  },
  {
   "cell_type": "code",
   "execution_count": 12,
   "metadata": {},
   "outputs": [],
   "source": [
    "#save\n",
    "model.save('modelGaborFilter.keras')\n",
    "with open('history.json', 'w') as f:\n",
    "    json.dump(history.history, f)"
   ]
  },
  {
   "cell_type": "code",
   "execution_count": 3,
   "metadata": {},
   "outputs": [],
   "source": [
    "#load\n",
    "model = load_model('modelGaborFilter.keras')"
   ]
  },
  {
   "cell_type": "markdown",
   "metadata": {},
   "source": [
    "### LBP"
   ]
  },
  {
   "cell_type": "code",
   "execution_count": 13,
   "metadata": {},
   "outputs": [],
   "source": [
    "#save\n",
    "model2.save('modelLBP.keras')\n",
    "with open('history2.json', 'w') as f:\n",
    "    json.dump(history2.history, f)"
   ]
  },
  {
   "cell_type": "code",
   "execution_count": 14,
   "metadata": {},
   "outputs": [],
   "source": [
    "#load\n",
    "model2 = load_model('modelLBP.keras')"
   ]
  },
  {
   "cell_type": "markdown",
   "metadata": {},
   "source": [
    "### Default"
   ]
  },
  {
   "cell_type": "code",
   "execution_count": 10,
   "metadata": {},
   "outputs": [],
   "source": [
    "#save\n",
    "model3.save('modelDefault.keras')\n",
    "with open('history3.json', 'w') as f:\n",
    "    json.dump(history3.history, f)"
   ]
  },
  {
   "cell_type": "code",
   "execution_count": null,
   "metadata": {},
   "outputs": [],
   "source": [
    "#load\n",
    "model3 = load_model('model.keras')\n",
    "with open('history3.json', 'r') as f:\n",
    "    history3 = json.load(f)"
   ]
  },
  {
   "cell_type": "markdown",
   "metadata": {},
   "source": [
    "## Evaluation"
   ]
  },
  {
   "cell_type": "markdown",
   "metadata": {},
   "source": [
    "### Gabor Filter"
   ]
  },
  {
   "cell_type": "code",
   "execution_count": 22,
   "metadata": {},
   "outputs": [
    {
     "name": "stdout",
     "output_type": "stream",
     "text": [
      "\u001b[1m7/7\u001b[0m \u001b[32m━━━━━━━━━━━━━━━━━━━━\u001b[0m\u001b[37m\u001b[0m \u001b[1m24s\u001b[0m 3s/step\n"
     ]
    },
    {
     "data": {
      "image/png": "[encoded data removed]",
      "text/plain": [
       "<Figure size 800x600 with 2 Axes>"
      ]
     },
     "metadata": {},
     "output_type": "display_data"
    }
   ],
   "source": [
    "#confusion matrix\n",
    "y_val_pred = model.predict(X_val)\n",
    "y_val_pred_classes = np.argmax(y_val_pred, axis=1)\n",
    "y_val_true_classes = np.argmax(y_val, axis=1)\n",
    "\n",
    "cm = confusion_matrix(y_val_true_classes, y_val_pred_classes)\n",
    "\n",
    "plt.figure(figsize=(8, 6))\n",
    "sns.heatmap(cm, annot=True, fmt='d', cmap='Blues', xticklabels=['Real', 'AI'], yticklabels=['Real', 'AI'])\n",
    "plt.xlabel('Predicted Label')\n",
    "plt.ylabel('True Label')\n",
    "plt.title('Confusion Matrix')\n",
    "plt.show()"
   ]
  },
  {
   "cell_type": "code",
   "execution_count": 23,
   "metadata": {},
   "outputs": [
    {
     "name": "stdout",
     "output_type": "stream",
     "text": [
      "              precision    recall  f1-score   support\n",
      "\n",
      "        Real       0.51      1.00      0.67       101\n",
      "          AI       0.00      0.00      0.00        99\n",
      "\n",
      "    accuracy                           0.51       200\n",
      "   macro avg       0.25      0.50      0.34       200\n",
      "weighted avg       0.26      0.51      0.34       200\n",
      "\n"
     ]
    },
    {
     "name": "stderr",
     "output_type": "stream",
     "text": [
      "c:\\Users\\wagam\\AppData\\Local\\Programs\\Python\\Python310\\lib\\site-packages\\sklearn\\metrics\\_classification.py:1509: UndefinedMetricWarning: Precision is ill-defined and being set to 0.0 in labels with no predicted samples. Use `zero_division` parameter to control this behavior.\n",
      "  _warn_prf(average, modifier, f\"{metric.capitalize()} is\", len(result))\n",
      "c:\\Users\\wagam\\AppData\\Local\\Programs\\Python\\Python310\\lib\\site-packages\\sklearn\\metrics\\_classification.py:1509: UndefinedMetricWarning: Precision is ill-defined and being set to 0.0 in labels with no predicted samples. Use `zero_division` parameter to control this behavior.\n",
      "  _warn_prf(average, modifier, f\"{metric.capitalize()} is\", len(result))\n",
      "c:\\Users\\wagam\\AppData\\Local\\Programs\\Python\\Python310\\lib\\site-packages\\sklearn\\metrics\\_classification.py:1509: UndefinedMetricWarning: Precision is ill-defined and being set to 0.0 in labels with no predicted samples. Use `zero_division` parameter to control this behavior.\n",
      "  _warn_prf(average, modifier, f\"{metric.capitalize()} is\", len(result))\n"
     ]
    }
   ],
   "source": [
    "# Classification report\n",
    "report = classification_report(y_val_true_classes, y_val_pred_classes, target_names=['Real', 'AI'])\n",
    "print(report)"
   ]
  },
  {
   "cell_type": "markdown",
   "metadata": {},
   "source": [
    "### LBP"
   ]
  },
  {
   "cell_type": "code",
   "execution_count": 15,
   "metadata": {},
   "outputs": [
    {
     "name": "stdout",
     "output_type": "stream",
     "text": [
      "\u001b[1m7/7\u001b[0m \u001b[32m━━━━━━━━━━━━━━━━━━━━\u001b[0m\u001b[37m\u001b[0m \u001b[1m22s\u001b[0m 3s/step\n"
     ]
    },
    {
     "data": {
      "image/png": "[encoded data removed]",
      "text/plain": [
       "<Figure size 800x600 with 2 Axes>"
      ]
     },
     "metadata": {},
     "output_type": "display_data"
    }
   ],
   "source": [
    "# confusion matrix\n",
    "y_val_pred = model2.predict(x_val2)\n",
    "y_val_pred_classes = np.argmax(y_val_pred, axis=1)\n",
    "y_val_true_classes = np.argmax(y_val2, axis=1)\n",
    "\n",
    "cm = confusion_matrix(y_val_true_classes, y_val_pred_classes)\n",
    "\n",
    "plt.figure(figsize=(8, 6))\n",
    "sns.heatmap(cm, annot=True, fmt='d', cmap='Blues', xticklabels=['Real', 'AI'], yticklabels=['Real', 'AI'])\n",
    "plt.xlabel('Predicted Label')\n",
    "plt.ylabel('True Label')\n",
    "plt.title('Confusion Matrix')\n",
    "plt.show()"
   ]
  },
  {
   "cell_type": "code",
   "execution_count": 16,
   "metadata": {},
   "outputs": [
    {
     "name": "stdout",
     "output_type": "stream",
     "text": [
      "              precision    recall  f1-score   support\n",
      "\n",
      "        Real       0.51      1.00      0.67       101\n",
      "          AI       0.00      0.00      0.00        99\n",
      "\n",
      "    accuracy                           0.51       200\n",
      "   macro avg       0.25      0.50      0.34       200\n",
      "weighted avg       0.26      0.51      0.34       200\n",
      "\n"
     ]
    },
    {
     "name": "stderr",
     "output_type": "stream",
     "text": [
      "c:\\Users\\wagam\\AppData\\Local\\Programs\\Python\\Python310\\lib\\site-packages\\sklearn\\metrics\\_classification.py:1509: UndefinedMetricWarning: Precision is ill-defined and being set to 0.0 in labels with no predicted samples. Use `zero_division` parameter to control this behavior.\n",
      "  _warn_prf(average, modifier, f\"{metric.capitalize()} is\", len(result))\n",
      "c:\\Users\\wagam\\AppData\\Local\\Programs\\Python\\Python310\\lib\\site-packages\\sklearn\\metrics\\_classification.py:1509: UndefinedMetricWarning: Precision is ill-defined and being set to 0.0 in labels with no predicted samples. Use `zero_division` parameter to control this behavior.\n",
      "  _warn_prf(average, modifier, f\"{metric.capitalize()} is\", len(result))\n",
      "c:\\Users\\wagam\\AppData\\Local\\Programs\\Python\\Python310\\lib\\site-packages\\sklearn\\metrics\\_classification.py:1509: UndefinedMetricWarning: Precision is ill-defined and being set to 0.0 in labels with no predicted samples. Use `zero_division` parameter to control this behavior.\n",
      "  _warn_prf(average, modifier, f\"{metric.capitalize()} is\", len(result))\n"
     ]
    }
   ],
   "source": [
    "# Classification report\n",
    "report = classification_report(y_val_true_classes, y_val_pred_classes, target_names=['Real', 'AI'])\n",
    "print(report)"
   ]
  },
  {
   "cell_type": "markdown",
   "metadata": {},
   "source": [
    "### Default CNN Feature Maps"
   ]
  },
  {
   "cell_type": "code",
   "execution_count": 11,
   "metadata": {},
   "outputs": [
    {
     "data": {
      "image/png": "[encoded data removed]",
      "text/plain": [
       "<Figure size 1200x600 with 2 Axes>"
      ]
     },
     "metadata": {},
     "output_type": "display_data"
    }
   ],
   "source": [
    "#history\n",
    "acc = history3.history['accuracy']\n",
    "val_acc = history3.history['val_accuracy']\n",
    "loss = history3.history['loss']\n",
    "val_loss = history3.history['val_loss']\n",
    "epochs = range(1, len(acc) + 1)\n",
    "\n",
    "plt.figure(figsize=(12, 6))\n",
    "plt.subplot(1, 2, 1)\n",
    "plt.plot(epochs, acc, label='Training Accuracy', marker='o')\n",
    "plt.plot(epochs, val_acc, label='Validation Accuracy', marker='o')\n",
    "plt.title('Accuracy Over Epochs')\n",
    "plt.xlabel('Epochs')\n",
    "plt.ylabel('Accuracy')\n",
    "plt.legend()\n",
    "\n",
    "plt.subplot(1, 2, 2)\n",
    "plt.plot(epochs, loss, label='Training Loss', marker='o')\n",
    "plt.plot(epochs, val_loss, label='Validation Loss', marker='o')\n",
    "plt.title('Loss Over Epochs')\n",
    "plt.xlabel('Epochs')\n",
    "plt.ylabel('Loss')\n",
    "plt.legend()\n",
    "\n",
    "plt.tight_layout()\n",
    "plt.show()"
   ]
  },
  {
   "cell_type": "code",
   "execution_count": null,
   "metadata": {},
   "outputs": [
    {
     "name": "stdout",
     "output_type": "stream",
     "text": [
      "7/7 [==============================] - 17s 2s/step\n"
     ]
    },
    {
     "data": {
      "image/png": "[encoded data removed]",
      "text/plain": [
       "<Figure size 800x600 with 2 Axes>"
      ]
     },
     "metadata": {},
     "output_type": "display_data"
    }
   ],
   "source": [
    "# Confusion matrix\n",
    "y_val_pred = model3.predict(x_val3)\n",
    "y_val_pred_classes = np.argmax(y_val_pred, axis=1)\n",
    "y_val_true_classes = np.argmax(y_val3, axis=1)\n",
    "\n",
    "cm = confusion_matrix(y_val_true_classes, y_val_pred_classes)\n",
    "\n",
    "plt.figure(figsize=(8, 6))\n",
    "sns.heatmap(cm, annot=True, fmt='d', cmap='Blues', xticklabels=['Real', 'AI'], yticklabels=['Real', 'AI'])\n",
    "plt.xlabel('Predicted Label')\n",
    "plt.ylabel('True Label')\n",
    "plt.title('Confusion Matrix')\n",
    "plt.show()"
   ]
  },
  {
   "cell_type": "code",
   "execution_count": 14,
   "metadata": {},
   "outputs": [
    {
     "name": "stdout",
     "output_type": "stream",
     "text": [
      "Classification Report:\n",
      "               precision    recall  f1-score   support\n",
      "\n",
      "        Real       0.74      0.89      0.81        94\n",
      "          AI       0.89      0.73      0.80       106\n",
      "\n",
      "    accuracy                           0.81       200\n",
      "   macro avg       0.81      0.81      0.80       200\n",
      "weighted avg       0.82      0.81      0.80       200\n",
      "\n"
     ]
    }
   ],
   "source": [
    "# Classification report\n",
    "report = classification_report(y_val_true_classes, y_val_pred_classes, target_names=['Real', 'AI'])\n",
    "print(report)"
   ]
  }
 ],
 "metadata": {
  "kernelspec": {
   "display_name": "Python 3",
   "language": "python",
   "name": "python3"
  },
  "language_info": {
   "codemirror_mode": {
    "name": "ipython",
    "version": 3
   },
   "file_extension": ".py",
   "mimetype": "text/x-python",
   "name": "python",
   "nbconvert_exporter": "python",
   "pygments_lexer": "ipython3",
   "version": "3.10.6"
  }
 },
 "nbformat": 4,
 "nbformat_minor": 2
}
